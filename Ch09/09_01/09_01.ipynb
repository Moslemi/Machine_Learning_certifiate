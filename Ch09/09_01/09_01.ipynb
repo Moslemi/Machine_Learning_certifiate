{
 "cells": [
  {
   "cell_type": "markdown",
   "metadata": {},
   "source": [
    "![title](Header__0001_9.png)\n",
    "___\n",
    "# Chapter 9 - Web-based Data Visualizations with Plotly\n",
    "## Segment 1 - Basic charts\n",
    "### Setting up to use Plotly within Jupyter"
   ]
  },
  {
   "cell_type": "code",
   "execution_count": 1,
   "metadata": {},
   "outputs": [
    {
     "name": "stdout",
     "output_type": "stream",
     "text": [
      "Collecting Plotly\n",
      "\u001b[?25l  Downloading https://files.pythonhosted.org/packages/58/f3/a49d3281cc7275164ecf89ad3497556b11d9661faa119becdf7f9d3b2125/plotly-4.0.0-py2.py3-none-any.whl (6.8MB)\n",
      "\u001b[K     |████████████████████████████████| 6.8MB 418kB/s eta 0:00:01\n",
      "\u001b[?25hRequirement already satisfied: six in /Users/MAHDI/anaconda3/lib/python3.7/site-packages (from Plotly) (1.12.0)\n",
      "Collecting retrying>=1.3.3 (from Plotly)\n",
      "  Downloading https://files.pythonhosted.org/packages/44/ef/beae4b4ef80902f22e3af073397f079c96969c69b2c7d52a57ea9ae61c9d/retrying-1.3.3.tar.gz\n",
      "Building wheels for collected packages: retrying\n",
      "  Building wheel for retrying (setup.py) ... \u001b[?25ldone\n",
      "\u001b[?25h  Created wheel for retrying: filename=retrying-1.3.3-cp37-none-any.whl size=11430 sha256=a4a657343269f3cc426c0e808a6f265b4f896363fb19ce5197822edcddfe58ef\n",
      "  Stored in directory: /Users/MAHDI/Library/Caches/pip/wheels/d7/a9/33/acc7b709e2a35caa7d4cae442f6fe6fbf2c43f80823d46460c\n",
      "Successfully built retrying\n",
      "Installing collected packages: retrying, Plotly\n",
      "Successfully installed Plotly-4.0.0 retrying-1.3.3\n"
     ]
    }
   ],
   "source": [
    "!pip install Plotly"
   ]
  },
  {
   "cell_type": "code",
   "execution_count": 2,
   "metadata": {},
   "outputs": [
    {
     "name": "stdout",
     "output_type": "stream",
     "text": [
      "Collecting cufflinks\n",
      "\u001b[?25l  Downloading https://files.pythonhosted.org/packages/5e/5a/db3d6523ee870ecc229008b209b6b21231397302de34f9c446929a41f027/cufflinks-0.16.tar.gz (81kB)\n",
      "\u001b[K     |████████████████████████████████| 81kB 467kB/s eta 0:00:01\n",
      "\u001b[?25hRequirement already satisfied: numpy>=1.9.2 in /Users/MAHDI/anaconda3/lib/python3.7/site-packages (from cufflinks) (1.16.2)\n",
      "Requirement already satisfied: pandas>=0.19.2 in /Users/MAHDI/anaconda3/lib/python3.7/site-packages (from cufflinks) (0.24.2)\n",
      "Collecting plotly<4.0.0a0,>=3.0.0 (from cufflinks)\n",
      "\u001b[?25l  Downloading https://files.pythonhosted.org/packages/ff/75/3982bac5076d0ce6d23103c03840fcaec90c533409f9d82c19f54512a38a/plotly-3.10.0-py2.py3-none-any.whl (41.5MB)\n",
      "\u001b[K     |████████████████████████████████| 41.5MB 153kB/s eta 0:00:01     |█████████▉                      | 12.8MB 917kB/s eta 0:00:32\n",
      "\u001b[?25hRequirement already satisfied: six>=1.9.0 in /Users/MAHDI/anaconda3/lib/python3.7/site-packages (from cufflinks) (1.12.0)\n",
      "Collecting colorlover>=0.2.1 (from cufflinks)\n",
      "  Downloading https://files.pythonhosted.org/packages/9a/53/f696e4480b1d1de3b1523991dea71cf417c8b19fe70c704da164f3f90972/colorlover-0.3.0-py3-none-any.whl\n",
      "Requirement already satisfied: setuptools>=34.4.1 in /Users/MAHDI/anaconda3/lib/python3.7/site-packages (from cufflinks) (40.8.0)\n",
      "Requirement already satisfied: ipython>=5.3.0 in /Users/MAHDI/anaconda3/lib/python3.7/site-packages (from cufflinks) (7.4.0)\n",
      "Requirement already satisfied: ipywidgets>=7.0.0 in /Users/MAHDI/anaconda3/lib/python3.7/site-packages (from cufflinks) (7.4.2)\n",
      "Requirement already satisfied: pytz>=2011k in /Users/MAHDI/anaconda3/lib/python3.7/site-packages (from pandas>=0.19.2->cufflinks) (2018.9)\n",
      "Requirement already satisfied: python-dateutil>=2.5.0 in /Users/MAHDI/anaconda3/lib/python3.7/site-packages (from pandas>=0.19.2->cufflinks) (2.8.0)\n",
      "Requirement already satisfied: requests in /Users/MAHDI/anaconda3/lib/python3.7/site-packages (from plotly<4.0.0a0,>=3.0.0->cufflinks) (2.21.0)\n",
      "Requirement already satisfied: nbformat>=4.2 in /Users/MAHDI/anaconda3/lib/python3.7/site-packages (from plotly<4.0.0a0,>=3.0.0->cufflinks) (4.4.0)\n",
      "Requirement already satisfied: retrying>=1.3.3 in /Users/MAHDI/anaconda3/lib/python3.7/site-packages (from plotly<4.0.0a0,>=3.0.0->cufflinks) (1.3.3)\n",
      "Requirement already satisfied: decorator>=4.0.6 in /Users/MAHDI/anaconda3/lib/python3.7/site-packages (from plotly<4.0.0a0,>=3.0.0->cufflinks) (4.4.0)\n",
      "Requirement already satisfied: traitlets>=4.2 in /Users/MAHDI/anaconda3/lib/python3.7/site-packages (from ipython>=5.3.0->cufflinks) (4.3.2)\n",
      "Requirement already satisfied: pickleshare in /Users/MAHDI/anaconda3/lib/python3.7/site-packages (from ipython>=5.3.0->cufflinks) (0.7.5)\n",
      "Requirement already satisfied: backcall in /Users/MAHDI/anaconda3/lib/python3.7/site-packages (from ipython>=5.3.0->cufflinks) (0.1.0)\n",
      "Requirement already satisfied: appnope; sys_platform == \"darwin\" in /Users/MAHDI/anaconda3/lib/python3.7/site-packages (from ipython>=5.3.0->cufflinks) (0.1.0)\n",
      "Requirement already satisfied: pexpect; sys_platform != \"win32\" in /Users/MAHDI/anaconda3/lib/python3.7/site-packages (from ipython>=5.3.0->cufflinks) (4.6.0)\n",
      "Requirement already satisfied: pygments in /Users/MAHDI/anaconda3/lib/python3.7/site-packages (from ipython>=5.3.0->cufflinks) (2.3.1)\n",
      "Requirement already satisfied: jedi>=0.10 in /Users/MAHDI/anaconda3/lib/python3.7/site-packages (from ipython>=5.3.0->cufflinks) (0.13.3)\n",
      "Requirement already satisfied: prompt-toolkit<2.1.0,>=2.0.0 in /Users/MAHDI/anaconda3/lib/python3.7/site-packages (from ipython>=5.3.0->cufflinks) (2.0.9)\n",
      "Requirement already satisfied: ipykernel>=4.5.1 in /Users/MAHDI/anaconda3/lib/python3.7/site-packages (from ipywidgets>=7.0.0->cufflinks) (5.1.0)\n",
      "Requirement already satisfied: widgetsnbextension~=3.4.0 in /Users/MAHDI/anaconda3/lib/python3.7/site-packages (from ipywidgets>=7.0.0->cufflinks) (3.4.2)\n",
      "Requirement already satisfied: urllib3<1.25,>=1.21.1 in /Users/MAHDI/anaconda3/lib/python3.7/site-packages (from requests->plotly<4.0.0a0,>=3.0.0->cufflinks) (1.24.1)\n",
      "Requirement already satisfied: chardet<3.1.0,>=3.0.2 in /Users/MAHDI/anaconda3/lib/python3.7/site-packages (from requests->plotly<4.0.0a0,>=3.0.0->cufflinks) (3.0.4)\n",
      "Requirement already satisfied: idna<2.9,>=2.5 in /Users/MAHDI/anaconda3/lib/python3.7/site-packages (from requests->plotly<4.0.0a0,>=3.0.0->cufflinks) (2.8)\n",
      "Requirement already satisfied: certifi>=2017.4.17 in /Users/MAHDI/anaconda3/lib/python3.7/site-packages (from requests->plotly<4.0.0a0,>=3.0.0->cufflinks) (2019.3.9)\n",
      "Requirement already satisfied: jsonschema!=2.5.0,>=2.4 in /Users/MAHDI/anaconda3/lib/python3.7/site-packages (from nbformat>=4.2->plotly<4.0.0a0,>=3.0.0->cufflinks) (3.0.1)\n",
      "Requirement already satisfied: jupyter-core in /Users/MAHDI/anaconda3/lib/python3.7/site-packages (from nbformat>=4.2->plotly<4.0.0a0,>=3.0.0->cufflinks) (4.4.0)\n",
      "Requirement already satisfied: ipython-genutils in /Users/MAHDI/anaconda3/lib/python3.7/site-packages (from nbformat>=4.2->plotly<4.0.0a0,>=3.0.0->cufflinks) (0.2.0)\n",
      "Requirement already satisfied: ptyprocess>=0.5 in /Users/MAHDI/anaconda3/lib/python3.7/site-packages (from pexpect; sys_platform != \"win32\"->ipython>=5.3.0->cufflinks) (0.6.0)\n",
      "Requirement already satisfied: parso>=0.3.0 in /Users/MAHDI/anaconda3/lib/python3.7/site-packages (from jedi>=0.10->ipython>=5.3.0->cufflinks) (0.3.4)\n",
      "Requirement already satisfied: wcwidth in /Users/MAHDI/anaconda3/lib/python3.7/site-packages (from prompt-toolkit<2.1.0,>=2.0.0->ipython>=5.3.0->cufflinks) (0.1.7)\n",
      "Requirement already satisfied: jupyter-client in /Users/MAHDI/anaconda3/lib/python3.7/site-packages (from ipykernel>=4.5.1->ipywidgets>=7.0.0->cufflinks) (5.2.4)\n",
      "Requirement already satisfied: tornado>=4.2 in /Users/MAHDI/anaconda3/lib/python3.7/site-packages (from ipykernel>=4.5.1->ipywidgets>=7.0.0->cufflinks) (6.0.2)\n",
      "Requirement already satisfied: notebook>=4.4.1 in /Users/MAHDI/anaconda3/lib/python3.7/site-packages (from widgetsnbextension~=3.4.0->ipywidgets>=7.0.0->cufflinks) (5.7.8)\n",
      "Requirement already satisfied: attrs>=17.4.0 in /Users/MAHDI/anaconda3/lib/python3.7/site-packages (from jsonschema!=2.5.0,>=2.4->nbformat>=4.2->plotly<4.0.0a0,>=3.0.0->cufflinks) (19.1.0)\n",
      "Requirement already satisfied: pyrsistent>=0.14.0 in /Users/MAHDI/anaconda3/lib/python3.7/site-packages (from jsonschema!=2.5.0,>=2.4->nbformat>=4.2->plotly<4.0.0a0,>=3.0.0->cufflinks) (0.14.11)\n",
      "Requirement already satisfied: pyzmq>=13 in /Users/MAHDI/anaconda3/lib/python3.7/site-packages (from jupyter-client->ipykernel>=4.5.1->ipywidgets>=7.0.0->cufflinks) (18.0.0)\n",
      "Requirement already satisfied: prometheus-client in /Users/MAHDI/anaconda3/lib/python3.7/site-packages (from notebook>=4.4.1->widgetsnbextension~=3.4.0->ipywidgets>=7.0.0->cufflinks) (0.6.0)\n",
      "Requirement already satisfied: Send2Trash in /Users/MAHDI/anaconda3/lib/python3.7/site-packages (from notebook>=4.4.1->widgetsnbextension~=3.4.0->ipywidgets>=7.0.0->cufflinks) (1.5.0)\n",
      "Requirement already satisfied: jinja2 in /Users/MAHDI/anaconda3/lib/python3.7/site-packages (from notebook>=4.4.1->widgetsnbextension~=3.4.0->ipywidgets>=7.0.0->cufflinks) (2.10)\n",
      "Requirement already satisfied: nbconvert in /Users/MAHDI/anaconda3/lib/python3.7/site-packages (from notebook>=4.4.1->widgetsnbextension~=3.4.0->ipywidgets>=7.0.0->cufflinks) (5.4.1)\n",
      "Requirement already satisfied: terminado>=0.8.1 in /Users/MAHDI/anaconda3/lib/python3.7/site-packages (from notebook>=4.4.1->widgetsnbextension~=3.4.0->ipywidgets>=7.0.0->cufflinks) (0.8.1)\n",
      "Requirement already satisfied: MarkupSafe>=0.23 in /Users/MAHDI/anaconda3/lib/python3.7/site-packages (from jinja2->notebook>=4.4.1->widgetsnbextension~=3.4.0->ipywidgets>=7.0.0->cufflinks) (1.1.1)\n",
      "Requirement already satisfied: mistune>=0.8.1 in /Users/MAHDI/anaconda3/lib/python3.7/site-packages (from nbconvert->notebook>=4.4.1->widgetsnbextension~=3.4.0->ipywidgets>=7.0.0->cufflinks) (0.8.4)\n",
      "Requirement already satisfied: entrypoints>=0.2.2 in /Users/MAHDI/anaconda3/lib/python3.7/site-packages (from nbconvert->notebook>=4.4.1->widgetsnbextension~=3.4.0->ipywidgets>=7.0.0->cufflinks) (0.3)\n",
      "Requirement already satisfied: bleach in /Users/MAHDI/anaconda3/lib/python3.7/site-packages (from nbconvert->notebook>=4.4.1->widgetsnbextension~=3.4.0->ipywidgets>=7.0.0->cufflinks) (3.1.0)\n",
      "Requirement already satisfied: pandocfilters>=1.4.1 in /Users/MAHDI/anaconda3/lib/python3.7/site-packages (from nbconvert->notebook>=4.4.1->widgetsnbextension~=3.4.0->ipywidgets>=7.0.0->cufflinks) (1.4.2)\n",
      "Requirement already satisfied: testpath in /Users/MAHDI/anaconda3/lib/python3.7/site-packages (from nbconvert->notebook>=4.4.1->widgetsnbextension~=3.4.0->ipywidgets>=7.0.0->cufflinks) (0.4.2)\n",
      "Requirement already satisfied: defusedxml in /Users/MAHDI/anaconda3/lib/python3.7/site-packages (from nbconvert->notebook>=4.4.1->widgetsnbextension~=3.4.0->ipywidgets>=7.0.0->cufflinks) (0.5.0)\n",
      "Requirement already satisfied: webencodings in /Users/MAHDI/anaconda3/lib/python3.7/site-packages (from bleach->nbconvert->notebook>=4.4.1->widgetsnbextension~=3.4.0->ipywidgets>=7.0.0->cufflinks) (0.5.1)\n",
      "Building wheels for collected packages: cufflinks\n"
     ]
    },
    {
     "name": "stdout",
     "output_type": "stream",
     "text": [
      "  Building wheel for cufflinks (setup.py) ... \u001b[?25ldone\n",
      "\u001b[?25h  Created wheel for cufflinks: filename=cufflinks-0.16-cp37-none-any.whl size=67603 sha256=db7c4d8595de20db6ff83df0463aaa27623386993a1c60b4fb06885e4f073c2b\n",
      "  Stored in directory: /Users/MAHDI/Library/Caches/pip/wheels/8d/5a/6f/c97d47dc901071611809eb61aaa477d50a60692dc764dca622\n",
      "Successfully built cufflinks\n",
      "Installing collected packages: plotly, colorlover, cufflinks\n",
      "  Found existing installation: plotly 4.0.0\n",
      "    Uninstalling plotly-4.0.0:\n",
      "      Successfully uninstalled plotly-4.0.0\n",
      "Successfully installed colorlover-0.3.0 cufflinks-0.16 plotly-3.10.0\n"
     ]
    }
   ],
   "source": [
    "!pip install cufflinks"
   ]
  },
  {
   "cell_type": "code",
   "execution_count": 3,
   "metadata": {},
   "outputs": [],
   "source": [
    "import numpy as np\n",
    "import pandas as pd\n",
    "\n",
    "import cufflinks as cf\n",
    "\n",
    "import plotly.plotly as py\n",
    "import plotly.tools as tls\n",
    "import plotly.graph_objs as go"
   ]
  },
  {
   "cell_type": "code",
   "execution_count": 7,
   "metadata": {},
   "outputs": [],
   "source": [
    "tls.set_credentials_file(username='MMdata', api_key='gnljSDMcsuic8DO6whyt') # usernamr :bigdatagal , api_key: hvginfgvwe"
   ]
  },
  {
   "cell_type": "markdown",
   "metadata": {},
   "source": [
    "### Creating line charts"
   ]
  },
  {
   "cell_type": "markdown",
   "metadata": {},
   "source": [
    "#### A very basic line chart"
   ]
  },
  {
   "cell_type": "code",
   "execution_count": 8,
   "metadata": {},
   "outputs": [
    {
     "name": "stdout",
     "output_type": "stream",
     "text": [
      "High five! You successfully sent some data to your account on plotly. View your plot in your browser at https://plot.ly/~MMdata/0 or inside your plot.ly account where it is named 'basic-line-chart'\n"
     ]
    },
    {
     "name": "stderr",
     "output_type": "stream",
     "text": [
      "/Users/MAHDI/anaconda3/lib/python3.7/site-packages/IPython/core/display.py:689: UserWarning:\n",
      "\n",
      "Consider using IPython.display.IFrame instead\n",
      "\n"
     ]
    },
    {
     "data": {
      "text/html": [
       "<iframe id=\"igraph\" scrolling=\"no\" style=\"border:none;\" seamless=\"seamless\" src=\"https://plot.ly/~MMdata/0.embed\" height=\"525px\" width=\"100%\"></iframe>"
      ],
      "text/plain": [
       "<chart_studio.tools.PlotlyDisplay object>"
      ]
     },
     "execution_count": 8,
     "metadata": {},
     "output_type": "execute_result"
    }
   ],
   "source": [
    "a = np.linspace(start=0, stop=36, num=36)\n",
    "\n",
    "np.random.seed(25)\n",
    "b = np.random.uniform(low=0.0, high=1.0, size=36)\n",
    "\n",
    "trace = go.Scatter(x=a, y=b)\n",
    "\n",
    "data = [trace]\n",
    "\n",
    "py.iplot(data, filename='basic-line-chart')"
   ]
  },
  {
   "cell_type": "markdown",
   "metadata": {},
   "source": [
    "#### A line chart with more than one variable plotted"
   ]
  },
  {
   "cell_type": "code",
   "execution_count": 10,
   "metadata": {},
   "outputs": [
    {
     "name": "stdout",
     "output_type": "stream",
     "text": [
      "{'title': 'Double Line Chart', 'xaxis': {'title': 'x-axis'}, 'yaxis': {'title': 'y-axis'}}\n"
     ]
    }
   ],
   "source": [
    "x = [1,2,3,4,5,6,7,8,9]\n",
    "y = [1,2,3,4,0,4,3,2,1]\n",
    "z = [10,9,8,7,6,5,4,3,2,1]\n",
    "\n",
    "trace0 = go.Scatter(x=x, y=y, name='List Object', line = dict(width=5))\n",
    "trace1 = go.Scatter(x=x, y=z, name='List Object 2', line = dict(width=10,))\n",
    "\n",
    "data = [trace0, trace1]\n",
    "\n",
    "layout = dict(title='Double Line Chart', xaxis= dict(title='x-axis'), yaxis= dict(title='y-axis'))\n",
    "print (layout)"
   ]
  },
  {
   "cell_type": "code",
   "execution_count": 13,
   "metadata": {},
   "outputs": [
    {
     "name": "stdout",
     "output_type": "stream",
     "text": [
      "{'data': [Scatter({\n",
      "    'line': {'width': 5}, 'name': 'List Object', 'x': [1, 2, 3, 4, 5, 6, 7, 8, 9], 'y': [1, 2, 3, 4, 0, 4, 3, 2, 1]\n",
      "}), Scatter({\n",
      "    'line': {'width': 10}, 'name': 'List Object 2', 'x': [1, 2, 3, 4, 5, 6, 7, 8, 9], 'y': [10, 9, 8, 7, 6, 5, 4, 3, 2, 1]\n",
      "})], 'layout': {'title': 'Double Line Chart', 'xaxis': {'title': 'x-axis'}, 'yaxis': {'title': 'y-axis'}}}\n"
     ]
    }
   ],
   "source": [
    "fig = dict(data=data, layout=layout)\n",
    "print (fig)"
   ]
  },
  {
   "cell_type": "code",
   "execution_count": 14,
   "metadata": {},
   "outputs": [
    {
     "data": {
      "text/html": [
       "<iframe id=\"igraph\" scrolling=\"no\" style=\"border:none;\" seamless=\"seamless\" src=\"https://plot.ly/~MMdata/2.embed\" height=\"525px\" width=\"100%\"></iframe>"
      ],
      "text/plain": [
       "<chart_studio.tools.PlotlyDisplay object>"
      ]
     },
     "execution_count": 14,
     "metadata": {},
     "output_type": "execute_result"
    }
   ],
   "source": [
    "py.iplot(fig, filename='styled-line-chart')"
   ]
  },
  {
   "cell_type": "markdown",
   "metadata": {},
   "source": [
    "#### A line chart from a pandas dataframe "
   ]
  },
  {
   "cell_type": "code",
   "execution_count": 15,
   "metadata": {},
   "outputs": [
    {
     "data": {
      "text/html": [
       "<iframe id=\"igraph\" scrolling=\"no\" style=\"border:none;\" seamless=\"seamless\" src=\"https://plot.ly/~MMdata/4.embed\" height=\"525px\" width=\"100%\"></iframe>"
      ],
      "text/plain": [
       "<chart_studio.tools.PlotlyDisplay object>"
      ]
     },
     "execution_count": 15,
     "metadata": {},
     "output_type": "execute_result"
    }
   ],
   "source": [
    "address = 'mtcars.csv'#'C:/Users/Lillian Pierson/Desktop/Exercise Files/Ch09/09_01/mtcars.csv'\n",
    "cars = pd.read_csv(address)\n",
    "cars.columns = ['car_names','mpg','cyl','disp', 'hp', 'drat', 'wt', 'qsec', 'vs', 'am', 'gear', 'carb']\n",
    "\n",
    "df = cars[['cyl', 'wt','mpg']]\n",
    "\n",
    "layout = dict(title = 'Chart From Pandas DataFrame', xaxis= dict(title='x-axis'), yaxis= dict(title='y-axis'))\n",
    "\n",
    "df.iplot(filename='cf-simple-line-chart', layout=layout)"
   ]
  },
  {
   "cell_type": "markdown",
   "metadata": {},
   "source": [
    "### Creating bar charts"
   ]
  },
  {
   "cell_type": "code",
   "execution_count": 16,
   "metadata": {},
   "outputs": [
    {
     "name": "stdout",
     "output_type": "stream",
     "text": [
      "[Bar({\n",
      "    'x': [1, 2, 3, 4, 5, 6, 7, 8, 9, 10], 'y': [1, 2, 3, 4, 0.5, 4, 3, 2, 1]\n",
      "})]\n"
     ]
    }
   ],
   "source": [
    "data = [go.Bar(x=[1,2,3,4,5,6,7,8,9,10],y=[1,2,3,4,0.5,4,3,2,1])]\n",
    "print (data)"
   ]
  },
  {
   "cell_type": "code",
   "execution_count": 17,
   "metadata": {},
   "outputs": [
    {
     "data": {
      "text/html": [
       "<iframe id=\"igraph\" scrolling=\"no\" style=\"border:none;\" seamless=\"seamless\" src=\"https://plot.ly/~MMdata/6.embed\" height=\"525px\" width=\"100%\"></iframe>"
      ],
      "text/plain": [
       "<chart_studio.tools.PlotlyDisplay object>"
      ]
     },
     "execution_count": 17,
     "metadata": {},
     "output_type": "execute_result"
    }
   ],
   "source": [
    "layout = dict(title='Simple Bar Chart',\n",
    "             xaxis = dict(title='x-axis'),\n",
    "             yaxis = dict(title='y-axis'))\n",
    "py.iplot(data, filename='basic-bar-chart', layout=layout)"
   ]
  },
  {
   "cell_type": "code",
   "execution_count": 18,
   "metadata": {},
   "outputs": [
    {
     "name": "stdout",
     "output_type": "stream",
     "text": [
      "{'color': ['rgba(169,169,169,1)', 'rgba(255,160,122,1)', 'rgba(176,224,230,1)', 'rgba(255,228,196,1)', 'rgba(189,183,107,1)', 'rgba(188,143,143,1)', 'rgba(221,160,221,1)']}\n"
     ]
    }
   ],
   "source": [
    "color_theme = dict(color=['rgba(169,169,169,1)', 'rgba(255,160,122,1)','rgba(176,224,230,1)', 'rgba(255,228,196,1)',\n",
    "                          'rgba(189,183,107,1)', 'rgba(188,143,143,1)','rgba(221,160,221,1)'])\n",
    "print (color_theme)"
   ]
  },
  {
   "cell_type": "code",
   "execution_count": 19,
   "metadata": {},
   "outputs": [
    {
     "data": {
      "text/html": [
       "<iframe id=\"igraph\" scrolling=\"no\" style=\"border:none;\" seamless=\"seamless\" src=\"https://plot.ly/~MMdata/8.embed\" height=\"525px\" width=\"100%\"></iframe>"
      ],
      "text/plain": [
       "<chart_studio.tools.PlotlyDisplay object>"
      ]
     },
     "execution_count": 19,
     "metadata": {},
     "output_type": "execute_result"
    }
   ],
   "source": [
    "trace0 = go.Bar(x=[1,2,3,4,5,6,7], y=[1,2,3,4,0.5,3,1], marker=color_theme)\n",
    "data = [trace0]\n",
    "layout = go.Layout(title='Custom Colors')\n",
    "fig = go.Figure(data=data, layout=layout)\n",
    "\n",
    "py.iplot(fig, filename='color-bar-chart')"
   ]
  },
  {
   "cell_type": "markdown",
   "metadata": {},
   "source": [
    "### Creating pie charts"
   ]
  },
  {
   "cell_type": "code",
   "execution_count": 20,
   "metadata": {},
   "outputs": [
    {
     "data": {
      "text/html": [
       "<iframe id=\"igraph\" scrolling=\"no\" style=\"border:none;\" seamless=\"seamless\" src=\"https://plot.ly/~MMdata/10.embed\" height=\"525px\" width=\"100%\"></iframe>"
      ],
      "text/plain": [
       "<chart_studio.tools.PlotlyDisplay object>"
      ]
     },
     "execution_count": 20,
     "metadata": {},
     "output_type": "execute_result"
    }
   ],
   "source": [
    "fig = {'data':[{'labels': ['bicycle', 'motorbike','car','van', 'stroller'],\n",
    "                 'values': [1, 2, 3, 4, 0.5],'type': 'pie'}],\n",
    "       'layout': {'title': 'Simple Pie Chart'}}\n",
    "py.iplot(fig)\n",
    "              "
   ]
  },
  {
   "cell_type": "code",
   "execution_count": null,
   "metadata": {},
   "outputs": [],
   "source": []
  },
  {
   "cell_type": "code",
   "execution_count": null,
   "metadata": {},
   "outputs": [],
   "source": []
  }
 ],
 "metadata": {
  "anaconda-cloud": {},
  "kernelspec": {
   "display_name": "Python 3",
   "language": "python",
   "name": "python3"
  },
  "language_info": {
   "codemirror_mode": {
    "name": "ipython",
    "version": 3
   },
   "file_extension": ".py",
   "mimetype": "text/x-python",
   "name": "python",
   "nbconvert_exporter": "python",
   "pygments_lexer": "ipython3",
   "version": "3.7.3"
  }
 },
 "nbformat": 4,
 "nbformat_minor": 1
}
